{
 "cells": [
  {
   "cell_type": "code",
   "execution_count": 1,
   "metadata": {},
   "outputs": [
    {
     "data": {
      "text/plain": [
       "<zip at 0x58d99c8>"
      ]
     },
     "execution_count": 1,
     "metadata": {},
     "output_type": "execute_result"
    }
   ],
   "source": [
    "a = [10, 20, 30]\n",
    "b = ('ten', 'twenty', 'thirty')\n",
    "\n",
    "zip(a, b)"
   ]
  },
  {
   "cell_type": "code",
   "execution_count": 2,
   "metadata": {},
   "outputs": [
    {
     "data": {
      "text/plain": [
       "zip"
      ]
     },
     "execution_count": 2,
     "metadata": {},
     "output_type": "execute_result"
    }
   ],
   "source": [
    "a = [10, 20, 30]\n",
    "b = ('ten', 'twenty', 'thirty')\n",
    "\n",
    "type(zip(a, b))"
   ]
  },
  {
   "cell_type": "code",
   "execution_count": 3,
   "metadata": {},
   "outputs": [
    {
     "name": "stdout",
     "output_type": "stream",
     "text": [
      "<zip object at 0x06BB73E8>\n"
     ]
    }
   ],
   "source": [
    "print(zip(a, b))"
   ]
  },
  {
   "cell_type": "code",
   "execution_count": 10,
   "metadata": {},
   "outputs": [
    {
     "name": "stdout",
     "output_type": "stream",
     "text": [
      "(10, 'ten')\n",
      "(20, 'twenty')\n",
      "(30, 'thirty')\n",
      "(30, 'thirty')\n"
     ]
    }
   ],
   "source": [
    "a = [10, 20, 30]\n",
    "b = ('ten', 'twenty', 'thirty')\n",
    "data = zip(a, b)\n",
    "\n",
    "for val in data :\n",
    "    print(val)\n",
    "    \n",
    "print(val)"
   ]
  },
  {
   "cell_type": "code",
   "execution_count": 13,
   "metadata": {},
   "outputs": [
    {
     "name": "stdout",
     "output_type": "stream",
     "text": [
      "(10, 'ten')\n",
      "[(10, 'ten')]\n",
      "(20, 'twenty')\n",
      "[(20, 'twenty')]\n",
      "(30, 'thirty')\n",
      "[(30, 'thirty')]\n",
      "[(30, 'thirty')]\n"
     ]
    }
   ],
   "source": [
    "a = [10, 20, 30]\n",
    "b = ('ten', 'twenty', 'thirty')\n",
    "data = zip(a, b)\n",
    "\n",
    "for val in data :\n",
    "    print(val)\n",
    "    val_list = []\n",
    "    val_list.append(val)\n",
    "    print(val_list)\n",
    "    \n",
    "print(val_list)"
   ]
  },
  {
   "cell_type": "code",
   "execution_count": 15,
   "metadata": {},
   "outputs": [
    {
     "name": "stdout",
     "output_type": "stream",
     "text": [
      "(10, 'ten')\n",
      "[(10, 'ten')]\n",
      "(20, 'twenty')\n",
      "[(10, 'ten'), (20, 'twenty')]\n",
      "(30, 'thirty')\n",
      "[(10, 'ten'), (20, 'twenty'), (30, 'thirty')]\n"
     ]
    }
   ],
   "source": [
    "a = [10, 20, 30]\n",
    "b = ('ten', 'twenty', 'thirty')\n",
    "data = zip(a, b)\n",
    "\n",
    "val_list = []\n",
    "\n",
    "for val in data :\n",
    "    print(val)\n",
    "    \n",
    "    val_list.append(val)\n",
    "    print(val_list)\n",
    "    \n",
    "# print(val_list)"
   ]
  },
  {
   "cell_type": "code",
   "execution_count": 17,
   "metadata": {},
   "outputs": [
    {
     "name": "stdout",
     "output_type": "stream",
     "text": [
      "[(10, 'ten'), (20, 'twenty'), (30, 'thirty')]\n"
     ]
    }
   ],
   "source": [
    "a = [10, 20, 30]\n",
    "b = ('ten', 'twenty', 'thirty')\n",
    "data = zip(a, b)\n",
    "\n",
    "val_list = []\n",
    "\n",
    "for val in data :\n",
    "#     print(val)\n",
    "    \n",
    "    val_list.append(val)\n",
    "#     print(val_list)\n",
    "    \n",
    "print(val_list)"
   ]
  },
  {
   "cell_type": "code",
   "execution_count": 18,
   "metadata": {},
   "outputs": [
    {
     "name": "stdout",
     "output_type": "stream",
     "text": [
      "{(30, 'thirty'), (10, 'ten'), (20, 'twenty')}\n"
     ]
    }
   ],
   "source": [
    "a = [10, 20, 30]\n",
    "b = ('ten', 'twenty', 'thirty')\n",
    "data = zip(a, b)\n",
    "\n",
    "val_list = []\n",
    "\n",
    "for val in data :\n",
    "    val_list.append(val)\n",
    "\n",
    "val_set = set(val_list)\n",
    "print(val_set)"
   ]
  }
 ],
 "metadata": {
  "kernelspec": {
   "display_name": "Python 3",
   "language": "python",
   "name": "python3"
  },
  "language_info": {
   "codemirror_mode": {
    "name": "ipython",
    "version": 3
   },
   "file_extension": ".py",
   "mimetype": "text/x-python",
   "name": "python",
   "nbconvert_exporter": "python",
   "pygments_lexer": "ipython3",
   "version": "3.8.3"
  }
 },
 "nbformat": 4,
 "nbformat_minor": 4
}
