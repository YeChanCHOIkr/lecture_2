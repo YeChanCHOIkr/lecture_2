{
 "cells": [
  {
   "cell_type": "code",
   "execution_count": 3,
   "metadata": {},
   "outputs": [
    {
     "name": "stdout",
     "output_type": "stream",
     "text": [
      "<class 'list'>\n",
      "40\n"
     ]
    }
   ],
   "source": [
    "score_lists = [10, 20, 30, 40, 50, 60]\n",
    "\n",
    "print(type(score_lists))\n",
    "print(score_lists[3])"
   ]
  },
  {
   "cell_type": "code",
   "execution_count": 6,
   "metadata": {},
   "outputs": [
    {
     "name": "stdout",
     "output_type": "stream",
     "text": [
      "['banana', 'apple', 'orange', 'kiwi']\n"
     ]
    },
    {
     "data": {
      "text/plain": [
       "[100, 200, 'apple', 400]"
      ]
     },
     "execution_count": 6,
     "metadata": {},
     "output_type": "execute_result"
    }
   ],
   "source": [
    "fruits = ['banana', 'apple', 'orange', 'kiwi']\n",
    "print(fruits)\n",
    "\n",
    "mixed_list = [100, 200, 'apple', 400]\n",
    "mixed_list"
   ]
  },
  {
   "cell_type": "code",
   "execution_count": 9,
   "metadata": {},
   "outputs": [
    {
     "name": "stdout",
     "output_type": "stream",
     "text": [
      "[20, 30]\n",
      "[20, 30, 40, 50, 60, 70, 80]\n",
      "[20, 30, 40, 50, 60, 70, 80, 90]\n",
      "[20, 30, 40, 50, 60, 70, 80, 90]\n",
      "[20, 30, 40, 50]\n"
     ]
    }
   ],
   "source": [
    "score_lists = [10, 20, 30, 40, 50, 60, 70, 80, 90]\n",
    "\n",
    "print(score_lists[1:3])\n",
    "print(score_lists[1:8])\n",
    "print(score_lists[1:9])\n",
    "print(score_lists[1:10])\n",
    "\n",
    "print(score_lists[1:5])"
   ]
  },
  {
   "cell_type": "code",
   "execution_count": 13,
   "metadata": {},
   "outputs": [
    {
     "name": "stdout",
     "output_type": "stream",
     "text": [
      "90\n",
      "[]\n",
      "[50, 60, 70]\n",
      "[]\n"
     ]
    }
   ],
   "source": [
    "score_lists = [10, 20, 30, 40, 50, 60, 70, 80, 90]\n",
    "\n",
    "print(score_lists[-1])\n",
    "print(score_lists[-1:5])\n",
    "print(score_lists[-5:-2])\n",
    "print(score_lists[-5:0])"
   ]
  },
  {
   "cell_type": "code",
   "execution_count": 61,
   "metadata": {},
   "outputs": [
    {
     "name": "stdout",
     "output_type": "stream",
     "text": [
      "[10, 20, 30, 40, 50]\n",
      "[30, 40, 50, 60, 70, 80, 90]\n"
     ]
    }
   ],
   "source": [
    "score_lists = [10, 20, 30, 40, 50, 60, 70, 80, 90]\n",
    "\n",
    "print(score_lists[:5])\n",
    "print(score_lists[2:])"
   ]
  },
  {
   "cell_type": "code",
   "execution_count": 62,
   "metadata": {},
   "outputs": [
    {
     "name": "stdout",
     "output_type": "stream",
     "text": [
      "[50, 60, 70, 80, 90]\n"
     ]
    }
   ],
   "source": [
    "score_lists = [10, 20, 30, 40, 50, 60, 70, 80, 90]\n",
    "\n",
    "del score_lists[:4]\n",
    "\n",
    "print(score_lists)"
   ]
  },
  {
   "cell_type": "code",
   "execution_count": 19,
   "metadata": {},
   "outputs": [
    {
     "name": "stdout",
     "output_type": "stream",
     "text": [
      "<class 'list'> []\n",
      "<class 'list'> []\n",
      "<class 'list'> [1, 2, 3]\n",
      "<class 'list'> [1, 2, 3, 4, 5, 6, 7, 8, 9]\n",
      "<class 'list'> ['A', 'B', 'C', 'D', 'E', 'F']\n",
      "<class 'type'> ['잘', '생', '긴', ' ', '김', ' ', '태', ' ', '경']\n",
      "9\n"
     ]
    }
   ],
   "source": [
    "list1 = list()\n",
    "list2 = []\n",
    "list3 = list((1,2,3))\n",
    "list4 = list(range(1,10))\n",
    "list5 = list('ABCDEF')\n",
    "#list6 = list(ABCDEF)\n",
    "list7 = list('잘생긴 김 태 경')\n",
    "\n",
    "print(type(list1), list1)\n",
    "print(type(list2), list2)\n",
    "print(type(list3), list3)\n",
    "print(type(list4), list4)\n",
    "print(type(list5), list5)\n",
    "# print(type(list6), list6)\n",
    "print(type(list), list7)\n",
    "print(len(list7))"
   ]
  },
  {
   "cell_type": "code",
   "execution_count": 20,
   "metadata": {},
   "outputs": [
    {
     "name": "stdout",
     "output_type": "stream",
     "text": [
      "6\n"
     ]
    }
   ],
   "source": [
    "list8 = [1,2,3,4,5,5]\n",
    "print(len(list8))"
   ]
  },
  {
   "cell_type": "code",
   "execution_count": 25,
   "metadata": {},
   "outputs": [
    {
     "name": "stdout",
     "output_type": "stream",
     "text": [
      "6\n",
      "b\n",
      "b\n"
     ]
    }
   ],
   "source": [
    "list9 = [1,['a','b','c'],3,4,5,6]\n",
    "print(len(list9))\n",
    "\n",
    "listb = list9[1] # (다차원)2차원 인덱싱\n",
    "print(listb[1])\n",
    "\n",
    "print(list9[1][1]) # (다차원)2차원 인덱싱"
   ]
  },
  {
   "cell_type": "markdown",
   "metadata": {},
   "source": [
    "## 리스트 항목 추가 (append)"
   ]
  },
  {
   "cell_type": "code",
   "execution_count": 30,
   "metadata": {},
   "outputs": [
    {
     "name": "stdout",
     "output_type": "stream",
     "text": [
      "['a', 'b', 'c', 'd', 'f', 'e']\n"
     ]
    }
   ],
   "source": [
    "a_list = ['a', 'b', 'c', 'd']\n",
    "\n",
    "a_list.append('f')\n",
    "a_list.append('e')\n",
    "print(a_list)"
   ]
  },
  {
   "cell_type": "code",
   "execution_count": 31,
   "metadata": {},
   "outputs": [
    {
     "ename": "IndexError",
     "evalue": "list assignment index out of range",
     "output_type": "error",
     "traceback": [
      "\u001b[1;31m---------------------------------------------------------------------------\u001b[0m",
      "\u001b[1;31mIndexError\u001b[0m                                Traceback (most recent call last)",
      "\u001b[1;32m<ipython-input-31-b8b47af516d4>\u001b[0m in \u001b[0;36m<module>\u001b[1;34m\u001b[0m\n\u001b[0;32m      1\u001b[0m \u001b[0ma_list\u001b[0m \u001b[1;33m=\u001b[0m \u001b[1;33m[\u001b[0m\u001b[1;34m'a'\u001b[0m\u001b[1;33m,\u001b[0m \u001b[1;34m'b'\u001b[0m\u001b[1;33m,\u001b[0m \u001b[1;34m'c'\u001b[0m\u001b[1;33m,\u001b[0m \u001b[1;34m'd'\u001b[0m\u001b[1;33m]\u001b[0m\u001b[1;33m\u001b[0m\u001b[1;33m\u001b[0m\u001b[0m\n\u001b[1;32m----> 2\u001b[1;33m \u001b[0ma_list\u001b[0m\u001b[1;33m[\u001b[0m\u001b[1;36m4\u001b[0m\u001b[1;33m]\u001b[0m\u001b[1;33m=\u001b[0m\u001b[1;34m'f'\u001b[0m\u001b[1;33m\u001b[0m\u001b[1;33m\u001b[0m\u001b[0m\n\u001b[0m\u001b[0;32m      3\u001b[0m \u001b[1;33m\u001b[0m\u001b[0m\n\u001b[0;32m      4\u001b[0m \u001b[0mprint\u001b[0m\u001b[1;33m(\u001b[0m\u001b[0ma_list\u001b[0m\u001b[1;33m)\u001b[0m\u001b[1;33m\u001b[0m\u001b[1;33m\u001b[0m\u001b[0m\n",
      "\u001b[1;31mIndexError\u001b[0m: list assignment index out of range"
     ]
    }
   ],
   "source": [
    "a_list = ['a', 'b', 'c', 'd']\n",
    "a_list[4]='f'\n",
    "\n",
    "print(a_list)"
   ]
  },
  {
   "cell_type": "markdown",
   "metadata": {},
   "source": [
    "## 리스트 항목 삭제 (del, .remove, .pop)"
   ]
  },
  {
   "cell_type": "code",
   "execution_count": 34,
   "metadata": {},
   "outputs": [
    {
     "name": "stdout",
     "output_type": "stream",
     "text": [
      "['a', 'b', 'c', 'd', 'f']\n"
     ]
    }
   ],
   "source": [
    "del_list = ['a', 'b', 'c', 'd', 'f', 'e']\n",
    "\n",
    "del del_list[5] # or del_list[-1]\n",
    "print(del_list)"
   ]
  },
  {
   "cell_type": "code",
   "execution_count": 50,
   "metadata": {},
   "outputs": [
    {
     "name": "stdout",
     "output_type": "stream",
     "text": [
      "['b', 'c', 'd', 'f', 'e', 'f', 'f', 'f']\n",
      "['b', 'c', 'd', 'e', 'f', 'f', 'f']\n"
     ]
    }
   ],
   "source": [
    "del_list = ['a', 'b', 'c', 'd', 'f', 'e','f', 'f', 'f']\n",
    "\n",
    "del_list.remove(del_list[0])\n",
    "print(del_list)\n",
    "\n",
    "del_list.remove('f')\n",
    "print(del_list)"
   ]
  },
  {
   "cell_type": "code",
   "execution_count": 53,
   "metadata": {},
   "outputs": [
    {
     "name": "stdout",
     "output_type": "stream",
     "text": [
      "['b', 'c', 'd', 'f', 'e', 'f', 'f', 'f']\n"
     ]
    }
   ],
   "source": [
    "del_list = ['a', 'b', 'c', 'd', 'f', 'e','f', 'f', 'f']\n",
    "\n",
    "del_list.pop(0) # (print 안하면) 지우는 것을 return 값으로 가진다.\n",
    "print(del_list)"
   ]
  },
  {
   "cell_type": "code",
   "execution_count": 44,
   "metadata": {},
   "outputs": [
    {
     "ename": "TypeError",
     "evalue": "'str' object cannot be interpreted as an integer",
     "output_type": "error",
     "traceback": [
      "\u001b[1;31m---------------------------------------------------------------------------\u001b[0m",
      "\u001b[1;31mTypeError\u001b[0m                                 Traceback (most recent call last)",
      "\u001b[1;32m<ipython-input-44-1ca32e3d4199>\u001b[0m in \u001b[0;36m<module>\u001b[1;34m\u001b[0m\n\u001b[0;32m      1\u001b[0m \u001b[0mdel_list\u001b[0m \u001b[1;33m=\u001b[0m \u001b[1;33m[\u001b[0m\u001b[1;34m'a'\u001b[0m\u001b[1;33m,\u001b[0m \u001b[1;34m'b'\u001b[0m\u001b[1;33m,\u001b[0m \u001b[1;34m'c'\u001b[0m\u001b[1;33m,\u001b[0m \u001b[1;34m'd'\u001b[0m\u001b[1;33m,\u001b[0m \u001b[1;34m'f'\u001b[0m\u001b[1;33m,\u001b[0m \u001b[1;34m'e'\u001b[0m\u001b[1;33m,\u001b[0m\u001b[1;34m'f'\u001b[0m\u001b[1;33m,\u001b[0m \u001b[1;34m'f'\u001b[0m\u001b[1;33m,\u001b[0m \u001b[1;34m'f'\u001b[0m\u001b[1;33m]\u001b[0m\u001b[1;33m\u001b[0m\u001b[1;33m\u001b[0m\u001b[0m\n\u001b[0;32m      2\u001b[0m \u001b[1;33m\u001b[0m\u001b[0m\n\u001b[1;32m----> 3\u001b[1;33m \u001b[0mdel_list\u001b[0m\u001b[1;33m.\u001b[0m\u001b[0mpop\u001b[0m\u001b[1;33m(\u001b[0m\u001b[1;34m'a'\u001b[0m\u001b[1;33m)\u001b[0m\u001b[1;33m\u001b[0m\u001b[1;33m\u001b[0m\u001b[0m\n\u001b[0m\u001b[0;32m      4\u001b[0m \u001b[0mprint\u001b[0m\u001b[1;33m(\u001b[0m\u001b[0mdel_list\u001b[0m\u001b[1;33m)\u001b[0m\u001b[1;33m\u001b[0m\u001b[1;33m\u001b[0m\u001b[0m\n",
      "\u001b[1;31mTypeError\u001b[0m: 'str' object cannot be interpreted as an integer"
     ]
    }
   ],
   "source": [
    "del_list = ['a', 'b', 'c', 'd', 'f', 'e','f', 'f', 'f']\n",
    "\n",
    "del_list.pop('a')\n",
    "print(del_list)"
   ]
  },
  {
   "cell_type": "markdown",
   "metadata": {},
   "source": [
    "## 멤버연산자 (in, not in)"
   ]
  },
  {
   "cell_type": "code",
   "execution_count": 56,
   "metadata": {},
   "outputs": [
    {
     "data": {
      "text/plain": [
       "False"
      ]
     },
     "execution_count": 56,
     "metadata": {},
     "output_type": "execute_result"
    }
   ],
   "source": [
    "member_list = ['a', 'b', 'c', 'd', 'f', 'e','f', 'f', 'f']\n",
    "\n",
    "'a' in member_list\n",
    "# 'a' not in member_list"
   ]
  },
  {
   "cell_type": "code",
   "execution_count": 60,
   "metadata": {},
   "outputs": [
    {
     "name": "stdout",
     "output_type": "stream",
     "text": [
      "있다!\n",
      "없다!\n"
     ]
    }
   ],
   "source": [
    "member_list = ['a', 'b', 'c', 'd', 'f', 'e','f', 'f', 'f']\n",
    "\n",
    "if 'a' in member_list:\n",
    "    print(\"있다!\")\n",
    "\n",
    "if 'g' not in member_list:\n",
    "    print(\"없다!\")"
   ]
  },
  {
   "cell_type": "code",
   "execution_count": null,
   "metadata": {},
   "outputs": [],
   "source": []
  }
 ],
 "metadata": {
  "kernelspec": {
   "display_name": "Python 3",
   "language": "python",
   "name": "python3"
  },
  "language_info": {
   "codemirror_mode": {
    "name": "ipython",
    "version": 3
   },
   "file_extension": ".py",
   "mimetype": "text/x-python",
   "name": "python",
   "nbconvert_exporter": "python",
   "pygments_lexer": "ipython3",
   "version": "3.8.3"
  }
 },
 "nbformat": 4,
 "nbformat_minor": 4
}
