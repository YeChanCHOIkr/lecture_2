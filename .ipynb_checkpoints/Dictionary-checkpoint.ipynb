{
 "cells": [
  {
   "cell_type": "code",
   "execution_count": 6,
   "metadata": {},
   "outputs": [
    {
     "name": "stdout",
     "output_type": "stream",
     "text": [
      "{'성': '홍', '이름': '길동', '직장': '강남'}\n",
      "3\n"
     ]
    }
   ],
   "source": [
    "people_info = {'성':'홍','이름':'길동','직장':'강남'}\n",
    "\n",
    "print(people_info)\n",
    "print(len(people_info))"
   ]
  },
  {
   "cell_type": "code",
   "execution_count": 4,
   "metadata": {},
   "outputs": [
    {
     "data": {
      "text/plain": [
       "2"
      ]
     },
     "execution_count": 4,
     "metadata": {},
     "output_type": "execute_result"
    }
   ],
   "source": [
    "people_info_list = [{'성':'홍','이름':'길동','직장':'강남'},{'성':'김','이름':'태경','직장':'무직'}]\n",
    "len(people_info_list)"
   ]
  },
  {
   "cell_type": "code",
   "execution_count": 5,
   "metadata": {},
   "outputs": [
    {
     "data": {
      "text/plain": [
       "3"
      ]
     },
     "execution_count": 5,
     "metadata": {},
     "output_type": "execute_result"
    }
   ],
   "source": [
    "people_info_list = [{'성':'홍','이름':'길동','직장':'강남'},{'성':'김','이름':'태경','직장':'무직'}]\n",
    "len(people_info_list[0])"
   ]
  },
  {
   "cell_type": "code",
   "execution_count": 10,
   "metadata": {},
   "outputs": [
    {
     "name": "stdout",
     "output_type": "stream",
     "text": [
      "길동\n",
      "강남\n"
     ]
    }
   ],
   "source": [
    "people_info = {'성':'홍','이름':'길동','직장':'강남'}\n",
    "\n",
    "print(people_info['이름'])\n",
    "# print(people_info['길동']) -> ERROR\n",
    "print(people_info['직장'])"
   ]
  },
  {
   "cell_type": "code",
   "execution_count": 15,
   "metadata": {},
   "outputs": [
    {
     "name": "stdout",
     "output_type": "stream",
     "text": [
      "dict_keys(['성', '이름', '직장'])\n",
      "dict_values(['홍', '길동', '강남'])\n"
     ]
    },
    {
     "ename": "TypeError",
     "evalue": "keys() takes no arguments (1 given)",
     "output_type": "error",
     "traceback": [
      "\u001b[1;31m---------------------------------------------------------------------------\u001b[0m",
      "\u001b[1;31mTypeError\u001b[0m                                 Traceback (most recent call last)",
      "\u001b[1;32m<ipython-input-15-c4a52e7d6428>\u001b[0m in \u001b[0;36m<module>\u001b[1;34m\u001b[0m\n\u001b[0;32m      4\u001b[0m \u001b[0mprint\u001b[0m\u001b[1;33m(\u001b[0m\u001b[0mpeople_info\u001b[0m\u001b[1;33m.\u001b[0m\u001b[0mvalues\u001b[0m\u001b[1;33m(\u001b[0m\u001b[1;33m)\u001b[0m\u001b[1;33m)\u001b[0m\u001b[1;33m\u001b[0m\u001b[1;33m\u001b[0m\u001b[0m\n\u001b[0;32m      5\u001b[0m \u001b[1;33m\u001b[0m\u001b[0m\n\u001b[1;32m----> 6\u001b[1;33m \u001b[0mprint\u001b[0m\u001b[1;33m(\u001b[0m\u001b[0mpeople_info\u001b[0m\u001b[1;33m.\u001b[0m\u001b[0mkeys\u001b[0m\u001b[1;33m(\u001b[0m\u001b[1;33m[\u001b[0m\u001b[1;36m2\u001b[0m\u001b[1;33m]\u001b[0m\u001b[1;33m)\u001b[0m\u001b[1;33m)\u001b[0m\u001b[1;33m\u001b[0m\u001b[1;33m\u001b[0m\u001b[0m\n\u001b[0m",
      "\u001b[1;31mTypeError\u001b[0m: keys() takes no arguments (1 given)"
     ]
    }
   ],
   "source": [
    "people_info = {'성':'홍','이름':'길동','직장':'강남'}\n",
    "\n",
    "print(people_info.keys())\n",
    "print(people_info.values())\n",
    "\n",
    "print(people_info.keys([2]))"
   ]
  },
  {
   "cell_type": "code",
   "execution_count": 16,
   "metadata": {},
   "outputs": [
    {
     "ename": "AttributeError",
     "evalue": "'dict' object has no attribute 'key'",
     "output_type": "error",
     "traceback": [
      "\u001b[1;31m---------------------------------------------------------------------------\u001b[0m",
      "\u001b[1;31mAttributeError\u001b[0m                            Traceback (most recent call last)",
      "\u001b[1;32m<ipython-input-16-c760db280dc4>\u001b[0m in \u001b[0;36m<module>\u001b[1;34m\u001b[0m\n\u001b[0;32m      1\u001b[0m \u001b[0mpeople_info\u001b[0m \u001b[1;33m=\u001b[0m \u001b[1;33m{\u001b[0m\u001b[1;34m'성'\u001b[0m\u001b[1;33m:\u001b[0m\u001b[1;34m'홍'\u001b[0m\u001b[1;33m}\u001b[0m\u001b[1;33m\u001b[0m\u001b[1;33m\u001b[0m\u001b[0m\n\u001b[0;32m      2\u001b[0m \u001b[1;33m\u001b[0m\u001b[0m\n\u001b[1;32m----> 3\u001b[1;33m \u001b[0mprint\u001b[0m\u001b[1;33m(\u001b[0m\u001b[0mpeople_info\u001b[0m\u001b[1;33m.\u001b[0m\u001b[0mkey\u001b[0m\u001b[1;33m(\u001b[0m\u001b[1;33m)\u001b[0m\u001b[1;33m)\u001b[0m\u001b[1;33m\u001b[0m\u001b[1;33m\u001b[0m\u001b[0m\n\u001b[0m",
      "\u001b[1;31mAttributeError\u001b[0m: 'dict' object has no attribute 'key'"
     ]
    }
   ],
   "source": [
    "people_info = {'성':'홍'}\n",
    "\n",
    "print(people_info.key())"
   ]
  },
  {
   "cell_type": "code",
   "execution_count": 21,
   "metadata": {},
   "outputs": [
    {
     "data": {
      "text/plain": [
       "list"
      ]
     },
     "execution_count": 21,
     "metadata": {},
     "output_type": "execute_result"
    }
   ],
   "source": [
    "key_list = list(people_info.keys())\n",
    "type(key_list)"
   ]
  },
  {
   "cell_type": "code",
   "execution_count": 45,
   "metadata": {},
   "outputs": [
    {
     "data": {
      "text/plain": [
       "'직장'"
      ]
     },
     "execution_count": 45,
     "metadata": {},
     "output_type": "execute_result"
    }
   ],
   "source": [
    "# people_info = {'성':'홍','이름':'길동','직장':'강남'}\n",
    "\n",
    "list(people_info.keys())[2]"
   ]
  },
  {
   "cell_type": "markdown",
   "metadata": {},
   "source": [
    "# 딕셔너리 삽입과 삭제"
   ]
  },
  {
   "cell_type": "code",
   "execution_count": 24,
   "metadata": {
    "scrolled": true
   },
   "outputs": [
    {
     "name": "stdout",
     "output_type": "stream",
     "text": [
      "{'성': '홍', '이름': '길동', '직장': '강남', '취미': '테니스'}\n"
     ]
    }
   ],
   "source": [
    "people_info = {'성':'홍','이름':'길동','직장':'강남'}\n",
    "\n",
    "people_info['취미'] = '테니스'\n",
    "\n",
    "print(people_info)"
   ]
  },
  {
   "cell_type": "code",
   "execution_count": 23,
   "metadata": {},
   "outputs": [
    {
     "name": "stdout",
     "output_type": "stream",
     "text": [
      "{'성': '홍', '이름': '태경', '직장': '강남'}\n"
     ]
    }
   ],
   "source": [
    "people_info = {'성':'홍','이름':'길동','직장':'강남'}\n",
    "\n",
    "people_info['이름'] = '태경'\n",
    "\n",
    "print(people_info)"
   ]
  },
  {
   "cell_type": "code",
   "execution_count": 26,
   "metadata": {},
   "outputs": [
    {
     "name": "stdout",
     "output_type": "stream",
     "text": [
      "{'성': '홍', '이름': '길동', '직장': '강남'}\n"
     ]
    }
   ],
   "source": [
    "people_info = {'성': '홍', '이름': '길동', '직장': '강남', '취미': '테니스'}\n",
    "\n",
    "del people_info['취미']\n",
    "\n",
    "print(people_info)"
   ]
  },
  {
   "cell_type": "code",
   "execution_count": 27,
   "metadata": {},
   "outputs": [
    {
     "ename": "KeyError",
     "evalue": "'주소'",
     "output_type": "error",
     "traceback": [
      "\u001b[1;31m---------------------------------------------------------------------------\u001b[0m",
      "\u001b[1;31mKeyError\u001b[0m                                  Traceback (most recent call last)",
      "\u001b[1;32m<ipython-input-27-326cf63822c1>\u001b[0m in \u001b[0;36m<module>\u001b[1;34m\u001b[0m\n\u001b[0;32m      1\u001b[0m \u001b[0mpeople_info\u001b[0m \u001b[1;33m=\u001b[0m \u001b[1;33m{\u001b[0m\u001b[1;34m'성'\u001b[0m\u001b[1;33m:\u001b[0m \u001b[1;34m'홍'\u001b[0m\u001b[1;33m,\u001b[0m \u001b[1;34m'이름'\u001b[0m\u001b[1;33m:\u001b[0m \u001b[1;34m'길동'\u001b[0m\u001b[1;33m,\u001b[0m \u001b[1;34m'직장'\u001b[0m\u001b[1;33m:\u001b[0m \u001b[1;34m'강남'\u001b[0m\u001b[1;33m,\u001b[0m \u001b[1;34m'취미'\u001b[0m\u001b[1;33m:\u001b[0m \u001b[1;34m'테니스'\u001b[0m\u001b[1;33m}\u001b[0m\u001b[1;33m\u001b[0m\u001b[1;33m\u001b[0m\u001b[0m\n\u001b[0;32m      2\u001b[0m \u001b[1;33m\u001b[0m\u001b[0m\n\u001b[1;32m----> 3\u001b[1;33m \u001b[1;32mdel\u001b[0m \u001b[0mpeople_info\u001b[0m\u001b[1;33m[\u001b[0m\u001b[1;34m'주소'\u001b[0m\u001b[1;33m]\u001b[0m\u001b[1;33m\u001b[0m\u001b[1;33m\u001b[0m\u001b[0m\n\u001b[0m\u001b[0;32m      4\u001b[0m \u001b[1;33m\u001b[0m\u001b[0m\n\u001b[0;32m      5\u001b[0m \u001b[0mprint\u001b[0m\u001b[1;33m(\u001b[0m\u001b[0mpeople_info\u001b[0m\u001b[1;33m)\u001b[0m\u001b[1;33m\u001b[0m\u001b[1;33m\u001b[0m\u001b[0m\n",
      "\u001b[1;31mKeyError\u001b[0m: '주소'"
     ]
    }
   ],
   "source": [
    "people_info = {'성': '홍', '이름': '길동', '직장': '강남', '취미': '테니스'}\n",
    "\n",
    "del people_info['주소']\n",
    "\n",
    "print(people_info)"
   ]
  },
  {
   "cell_type": "code",
   "execution_count": 29,
   "metadata": {},
   "outputs": [
    {
     "data": {
      "text/plain": [
       "True"
      ]
     },
     "execution_count": 29,
     "metadata": {},
     "output_type": "execute_result"
    }
   ],
   "source": [
    "people_info = {'성': '홍', '이름': '길동', '직장': '강남', '취미': '테니스'}\n",
    "\n",
    "'성' in people_info"
   ]
  },
  {
   "cell_type": "code",
   "execution_count": 32,
   "metadata": {},
   "outputs": [
    {
     "data": {
      "text/plain": [
       "('성', '이름', False)"
      ]
     },
     "execution_count": 32,
     "metadata": {},
     "output_type": "execute_result"
    }
   ],
   "source": [
    "people_info = {'성': '홍', '이름': '길동', '직장': '강남', '취미': '테니스'}\n",
    "\n",
    "'성', '이름', '길동' in people_info"
   ]
  },
  {
   "cell_type": "code",
   "execution_count": 30,
   "metadata": {},
   "outputs": [
    {
     "data": {
      "text/plain": [
       "False"
      ]
     },
     "execution_count": 30,
     "metadata": {},
     "output_type": "execute_result"
    }
   ],
   "source": [
    "people_info = {'성': '홍', '이름': '길동', '직장': '강남', '취미': '테니스'}\n",
    "\n",
    "'홍' in people_info"
   ]
  },
  {
   "cell_type": "code",
   "execution_count": 33,
   "metadata": {},
   "outputs": [
    {
     "data": {
      "text/plain": [
       "True"
      ]
     },
     "execution_count": 33,
     "metadata": {},
     "output_type": "execute_result"
    }
   ],
   "source": [
    "people_info = {'성': '홍', '이름': '길동', '직장': '강남', '취미': '테니스'}\n",
    "\n",
    "'홍' in people_info['성']"
   ]
  },
  {
   "cell_type": "code",
   "execution_count": 36,
   "metadata": {},
   "outputs": [
    {
     "data": {
      "text/plain": [
       "False"
      ]
     },
     "execution_count": 36,
     "metadata": {},
     "output_type": "execute_result"
    }
   ],
   "source": [
    "people_info = {'성': '홍', '이름': '길동', '직장': '강남', '취미': '테니스'}\n",
    "\n",
    "'성' not in people_info"
   ]
  },
  {
   "cell_type": "markdown",
   "metadata": {},
   "source": [
    "# 딕셔너리 병합"
   ]
  },
  {
   "cell_type": "code",
   "execution_count": 55,
   "metadata": {},
   "outputs": [
    {
     "name": "stdout",
     "output_type": "stream",
     "text": [
      "{'성': '홍', '이름': '길동', '직장': '강남', '취미': '테니스', '주소': '서울시', '나이': 25}\n"
     ]
    }
   ],
   "source": [
    "people_info_1 = {'성': '홍', '이름': '길동', '직장': '강남', '취미': '테니스'}\n",
    "people_info_2 = {'주소': '서울시', '나이': 25}\n",
    "\n",
    "people_info_1.update(people_info_2)\n",
    "\n",
    "print(people_info_1)"
   ]
  },
  {
   "cell_type": "code",
   "execution_count": 54,
   "metadata": {},
   "outputs": [
    {
     "name": "stdout",
     "output_type": "stream",
     "text": [
      "{'성': '김', '이름': '태경', '직장': '강북', '취미': '숨쉬기'}\n"
     ]
    }
   ],
   "source": [
    "people_info_1 = {'성': '홍', '이름': '길동', '직장': '강남', '취미': '테니스'}\n",
    "people_info_2 = {'성': '김', '이름': '태경', '직장': '강북', '취미': '숨쉬기'}\n",
    "\n",
    "people_info_1.update(people_info_2)\n",
    "\n",
    "print(people_info_1) # 같은 key이면 바뀜"
   ]
  },
  {
   "cell_type": "code",
   "execution_count": 46,
   "metadata": {},
   "outputs": [
    {
     "data": {
      "text/plain": [
       "False"
      ]
     },
     "execution_count": 46,
     "metadata": {},
     "output_type": "execute_result"
    }
   ],
   "source": [
    "people_info_1 = {'성': '홍', '이름': '길동', '직장': '강남', '취미': '테니스'}\n",
    "people_info_2 = {'성': '김', '이름': '길동', '직장': '강남', '취미': '테니스'}\n",
    "\n",
    "people_info_1 == people_info_2"
   ]
  },
  {
   "cell_type": "code",
   "execution_count": 47,
   "metadata": {},
   "outputs": [
    {
     "ename": "TypeError",
     "evalue": "unsupported operand type(s) for +: 'dict' and 'dict'",
     "output_type": "error",
     "traceback": [
      "\u001b[1;31m---------------------------------------------------------------------------\u001b[0m",
      "\u001b[1;31mTypeError\u001b[0m                                 Traceback (most recent call last)",
      "\u001b[1;32m<ipython-input-47-21fea2f3e2f8>\u001b[0m in \u001b[0;36m<module>\u001b[1;34m\u001b[0m\n\u001b[0;32m      2\u001b[0m \u001b[0mpeople_info_2\u001b[0m \u001b[1;33m=\u001b[0m \u001b[1;33m{\u001b[0m\u001b[1;34m'성'\u001b[0m\u001b[1;33m:\u001b[0m \u001b[1;34m'김'\u001b[0m\u001b[1;33m,\u001b[0m \u001b[1;34m'이름'\u001b[0m\u001b[1;33m:\u001b[0m \u001b[1;34m'길동'\u001b[0m\u001b[1;33m,\u001b[0m \u001b[1;34m'직장'\u001b[0m\u001b[1;33m:\u001b[0m \u001b[1;34m'강남'\u001b[0m\u001b[1;33m,\u001b[0m \u001b[1;34m'취미'\u001b[0m\u001b[1;33m:\u001b[0m \u001b[1;34m'테니스'\u001b[0m\u001b[1;33m}\u001b[0m\u001b[1;33m\u001b[0m\u001b[1;33m\u001b[0m\u001b[0m\n\u001b[0;32m      3\u001b[0m \u001b[1;33m\u001b[0m\u001b[0m\n\u001b[1;32m----> 4\u001b[1;33m \u001b[0mpeople\u001b[0m \u001b[1;33m=\u001b[0m \u001b[0mpeople_info_1\u001b[0m \u001b[1;33m+\u001b[0m \u001b[0mpeople_info_2\u001b[0m\u001b[1;33m\u001b[0m\u001b[1;33m\u001b[0m\u001b[0m\n\u001b[0m",
      "\u001b[1;31mTypeError\u001b[0m: unsupported operand type(s) for +: 'dict' and 'dict'"
     ]
    }
   ],
   "source": [
    "people_info_1 = {'성': '홍', '이름': '길동', '직장': '강남', '취미': '테니스'}\n",
    "people_info_2 = {'성': '김', '이름': '길동', '직장': '강남', '취미': '테니스'}\n",
    "\n",
    "people = people_info_1 + people_info_2"
   ]
  },
  {
   "cell_type": "code",
   "execution_count": 48,
   "metadata": {},
   "outputs": [
    {
     "name": "stdout",
     "output_type": "stream",
     "text": [
      "[{'성': '홍', '이름': '길동', '직장': '강남', '취미': '테니스'}, {'성': '김', '이름': '길동', '직장': '강남', '취미': '테니스'}]\n"
     ]
    }
   ],
   "source": [
    "people_info_1 = {'성': '홍', '이름': '길동', '직장': '강남', '취미': '테니스'}\n",
    "people_info_2 = {'성': '김', '이름': '길동', '직장': '강남', '취미': '테니스'}\n",
    "\n",
    "people = []\n",
    "\n",
    "people.append(people_info_1)\n",
    "people.append(people_info_2)\n",
    "\n",
    "print(people)"
   ]
  },
  {
   "cell_type": "code",
   "execution_count": 49,
   "metadata": {},
   "outputs": [
    {
     "data": {
      "text/plain": [
       "dict_keys(['성', '이름', '직장', '취미'])"
      ]
     },
     "execution_count": 49,
     "metadata": {},
     "output_type": "execute_result"
    }
   ],
   "source": [
    "people_info_1 = {'성': '홍', '이름': '길동', '직장': '강남', '취미': '테니스'}\n",
    "\n",
    "people_info_1.keys()"
   ]
  },
  {
   "cell_type": "code",
   "execution_count": 53,
   "metadata": {},
   "outputs": [
    {
     "name": "stdout",
     "output_type": "stream",
     "text": [
      "{}\n"
     ]
    },
    {
     "data": {
      "text/plain": [
       "{}"
      ]
     },
     "execution_count": 53,
     "metadata": {},
     "output_type": "execute_result"
    }
   ],
   "source": [
    "people_info_1 = {'성': '홍', '이름': '길동', '직장': '강남', '취미': '테니스'}\n",
    "\n",
    "people_info_1.clear()\n",
    "\n",
    "print(people_info_1)\n",
    "people_info_1"
   ]
  }
 ],
 "metadata": {
  "kernelspec": {
   "display_name": "Python 3",
   "language": "python",
   "name": "python3"
  },
  "language_info": {
   "codemirror_mode": {
    "name": "ipython",
    "version": 3
   },
   "file_extension": ".py",
   "mimetype": "text/x-python",
   "name": "python",
   "nbconvert_exporter": "python",
   "pygments_lexer": "ipython3",
   "version": "3.8.3"
  }
 },
 "nbformat": 4,
 "nbformat_minor": 4
}
